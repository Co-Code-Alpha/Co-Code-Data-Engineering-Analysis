{
 "cells": [
  {
   "cell_type": "code",
   "execution_count": null,
   "metadata": {},
   "outputs": [],
   "source": [
    "import openai\n",
    "from flask import Flask, request, jsonify\n",
    "\n",
    "app = Flask(__name__)\n",
    "\n",
    "# OpenAI API 키 설정\n",
    "openai.api_key = 'APIKEY'\n",
    "\n",
    "@app.route('/chatbot', methods=['POST'])\n",
    "def chatbot():\n",
    "    data = request.json\n",
    "    question = data.get('question', '')\n",
    "\n",
    "    try:\n",
    "        # GPT-3를 사용하여 질문에 대한 답변 생성\n",
    "        response = openai.Completion.create(\n",
    "          engine=\"text-davinci-003\", \n",
    "          prompt=question,\n",
    "          temperature=0.7,\n",
    "          max_tokens=150,\n",
    "          top_p=1.0,\n",
    "          frequency_penalty=0.0,\n",
    "          presence_penalty=0.0\n",
    "        )\n",
    "        answer = response.choices[0].text.strip()\n",
    "    except Exception as e:\n",
    "        answer = f\"죄송합니다, 오류가 발생했습니다: {str(e)}\"\n",
    "\n",
    "    return jsonify({\"answer\": answer})\n",
    "\n",
    "if __name__ == '__main__':\n",
    "    app.run(debug=True, port=5000)\n"
   ]
  },
  {
   "cell_type": "code",
   "execution_count": null,
   "metadata": {},
   "outputs": [],
   "source": [
    "import openai\n",
    "\n",
    "openai.api_key = 'APIKEY'\n",
    "\n",
    "# 파인튜닝 파일 업로드\n",
    "response = openai.File.create(file=open(\"finetune_data.jsonl\"), purpose='fine-tune')\n",
    "file_id = response['id']\n",
    "\n",
    "# 파인튜닝 작업 제출\n",
    "finetune_response = openai.FineTune.create(\n",
    "  training_file=file_id,\n",
    "  model=\"gpt-3.5-turbo\",\n",
    "  n_epochs=1,\n",
    "  learning_rate_multiplier=0.1,\n",
    "  prompt_loss_weight=0.1,\n",
    ")\n",
    "\n",
    "print(f\"파인튜닝 작업이 시작되었습니다. 작업 ID: {finetune_response['id']}\")\n"
   ]
  },
  {
   "cell_type": "code",
   "execution_count": null,
   "metadata": {},
   "outputs": [],
   "source": [
    "finetune_id = finetune_response['id']\n",
    "finetune_status = openai.FineTune.retrieve(id=finetune_id)\n",
    "print(f\"파인튜닝 작업 상태: {finetune_status['status']}\")\n"
   ]
  },
  {
   "cell_type": "code",
   "execution_count": null,
   "metadata": {},
   "outputs": [],
   "source": [
    "import openai\n",
    "from flask import Flask, request, jsonify\n",
    "\n",
    "app = Flask(__name__)\n",
    "\n",
    "# OpenAI API 키 설정\n",
    "openai.api_key = 'APIKEY'\n",
    "\n",
    "# 파인튜닝된 모델의 ID 설정\n",
    "finetuned_model_id = \"FINETUNEDMODELID\"\n",
    "\n",
    "@app.route('/chatbot', methods=['POST'])\n",
    "def chatbot():\n",
    "    data = request.json\n",
    "    question = data.get('question', '')\n",
    "\n",
    "    try:\n",
    "        # 파인튜닝된 모델을 사용하여 질문에 대한 답변 생성\n",
    "        response = openai.Completion.create(\n",
    "          model=finetuned_model_id, # 파인튜닝된 모델의 ID 사용\n",
    "          prompt=question,\n",
    "          temperature=0.7,\n",
    "          max_tokens=150,\n",
    "          top_p=1.0,\n",
    "          frequency_penalty=0.0,\n",
    "          presence_penalty=0.0\n",
    "        )\n",
    "        answer = response.choices[0].text.strip()\n",
    "    except Exception as e:\n",
    "        answer = f\"죄송합니다, 오류가 발생했습니다: {str(e)}\"\n",
    "\n",
    "    return jsonify({\"answer\": answer})\n",
    "\n",
    "if __name__ == '__main__':\n",
    "    app.run(debug=True, port=5000)\n"
   ]
  },
  {
   "cell_type": "code",
   "execution_count": null,
   "metadata": {},
   "outputs": [],
   "source": [
    "curl -X POST http://localhost:5000/chatbot -H \"Content-Type: application/json\" -d \"{\\\"question\\\":\\\"지금 날씨 어때?\\\"}\"\n"
   ]
  }
 ],
 "metadata": {
  "language_info": {
   "name": "python"
  }
 },
 "nbformat": 4,
 "nbformat_minor": 2
}
