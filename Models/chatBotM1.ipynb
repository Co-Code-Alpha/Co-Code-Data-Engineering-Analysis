{
 "cells": [
  {
   "cell_type": "code",
   "execution_count": null,
   "metadata": {},
   "outputs": [],
   "source": [
    "pip install flask\n"
   ]
  },
  {
   "cell_type": "code",
   "execution_count": null,
   "metadata": {},
   "outputs": [],
   "source": [
    "from flask import Flask, request, jsonify\n",
    "\n",
    "app = Flask(__name__)\n",
    "\n",
    "# 미리 정의된 질문과 답변\n",
    "FAQ = {\n",
    "    \"무엇을 도와줄 수 있나요?\": \"코딩 교육과 관련된 질문에 답변을 드릴 수 있습니다. 예를 들어, '파이썬 기초 배우기'와 같은 질문을 해주세요.\",\n",
    "    \"파이썬 기초를 어떻게 배우나요?\": \"파이썬 기초를 배우기 위해선, 변수, 조건문, 반복문부터 시작하는 것이 좋습니다. 온라인 강좌나 책을 통해 학습할 수 있습니다.\",\n",
    "    \"블록코딩이란 무엇인가요?\": \"블록코딩은 프로그래밍 언어의 문법 대신 시각적 블록을 조합하여 프로그램을 작성하는 방법입니다. 초보자나 어린이들이 쉽게 프로그래밍을 배울 수 있도록 돕습니다.\"\n",
    "}\n",
    "\n",
    "@app.route('/chatbot', methods=['POST'])\n",
    "def chatbot():\n",
    "    data = request.json\n",
    "    question = data.get('question', '').strip()\n",
    "    \n",
    "    # 질문에 대한 답변 찾기\n",
    "    answer = FAQ.get(question, \"죄송합니다, 답변을 찾을 수 없습니다. 다른 질문을 해주세요.\")\n",
    "    \n",
    "    return jsonify({\"answer\": answer})\n",
    "\n",
    "if __name__ == '__main__':\n",
    "    app.run(debug=True, port=5000)\n"
   ]
  },
  {
   "cell_type": "code",
   "execution_count": null,
   "metadata": {},
   "outputs": [],
   "source": [
    "python chatbot.py\n"
   ]
  },
  {
   "cell_type": "code",
   "execution_count": null,
   "metadata": {},
   "outputs": [],
   "source": [
    "curl -X POST http://localhost:5000/chatbot -H \"Content-Type: application/json\" -d \"{\\\"question\\\":\\\"무엇을 도와줄 수 있나요?\\\"}\"\n"
   ]
  }
 ],
 "metadata": {
  "language_info": {
   "name": "python"
  }
 },
 "nbformat": 4,
 "nbformat_minor": 2
}
